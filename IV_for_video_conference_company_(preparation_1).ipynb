{
  "nbformat": 4,
  "nbformat_minor": 0,
  "metadata": {
    "colab": {
      "provenance": [],
      "authorship_tag": "ABX9TyPhoZ9ttyWJKJqy9VswdqLP",
      "include_colab_link": true
    },
    "kernelspec": {
      "name": "python3",
      "display_name": "Python 3"
    },
    "language_info": {
      "name": "python"
    }
  },
  "cells": [
    {
      "cell_type": "markdown",
      "metadata": {
        "id": "view-in-github",
        "colab_type": "text"
      },
      "source": [
        "<a href=\"https://colab.research.google.com/github/sabrinaMKE201073/IV-preparation-for-data-labeler-role/blob/main/IV_for_video_conference_company_(preparation_1).ipynb\" target=\"_parent\"><img src=\"https://colab.research.google.com/assets/colab-badge.svg\" alt=\"Open In Colab\"/></a>"
      ]
    },
    {
      "cell_type": "markdown",
      "source": [
        "# **Natural Language Processing (NLP) techniques**"
      ],
      "metadata": {
        "id": "PRkI5yqLx0Ky"
      }
    },
    {
      "cell_type": "markdown",
      "source": [
        "# **1) POS (PART OF SPEECH) TAGGING**"
      ],
      "metadata": {
        "id": "wmKFu_Uyxf7C"
      }
    },
    {
      "cell_type": "markdown",
      "source": [
        "Part-of-speech tagging involves\n",
        "- identifying the grammatical parts of speech (e.g., noun, verb, adjective) of each word in a sentence.\n",
        "- By analyzing the parts of speech, we can identify the roles of words in the context of a sentence\n",
        "- gain insights into the content type."
      ],
      "metadata": {
        "id": "mv0fIeRJyZ4p"
      }
    },
    {
      "cell_type": "code",
      "source": [
        "#import libraries\n",
        "import nltk\n",
        "from nltk import sent_tokenize, word_tokenize, pos_tag"
      ],
      "metadata": {
        "id": "L28GrR3AqmQH"
      },
      "execution_count": 10,
      "outputs": []
    },
    {
      "cell_type": "code",
      "source": [
        "#download Punkt tokenizer from NLTK library\n",
        "nltk.download('punkt')\n",
        "\n",
        "text = \"This is a sentence. This is another sentence. This is the last sentence.\"\n",
        "\n",
        "sentences = nltk.sent_tokenize(text)\n",
        "\n",
        "print(sentences)"
      ],
      "metadata": {
        "colab": {
          "base_uri": "https://localhost:8080/"
        },
        "id": "KNlBGH5BuRf8",
        "outputId": "33a7c3ff-77ef-4e51-9f54-06f0636d4155"
      },
      "execution_count": 7,
      "outputs": [
        {
          "output_type": "stream",
          "name": "stderr",
          "text": [
            "[nltk_data] Downloading package punkt to /root/nltk_data...\n",
            "[nltk_data]   Unzipping tokenizers/punkt.zip.\n"
          ]
        },
        {
          "output_type": "stream",
          "name": "stdout",
          "text": [
            "['This is a sentence.', 'This is another sentence.', 'This is the last sentence.']\n"
          ]
        }
      ]
    },
    {
      "cell_type": "markdown",
      "source": [
        "The Punkt tokenizer is a pre-trained tokenizer that can be used to tokenize text into sentences.\n",
        "\n",
        "see example as above."
      ],
      "metadata": {
        "id": "olcJ99ptur9h"
      }
    },
    {
      "cell_type": "code",
      "source": [
        "#step 2: Load and Process the Transcript\n",
        "transcript = \"\"\"\n",
        "Participant 1: Good morning, everyone! Today, we will discuss the project status.\n",
        "Participant 2: Sounds good! Let's start with the marketing strategy.\n",
        "Participant 3: I agree. We need to focus on social media and content marketing.\n",
        "Participant 1: Exactly. We can assign action items for each team member.\n",
        "Participant 2: Yes, let's decide on the deadlines for the action items.\n",
        "Participant 3: I will follow up with the team on their progress.\n",
        "\"\"\""
      ],
      "metadata": {
        "id": "eoevTeVvrH_G"
      },
      "execution_count": 8,
      "outputs": []
    },
    {
      "cell_type": "markdown",
      "source": [
        "- `Pos Tagging`: useful first step in many natural language processing (NLP) tasks,\n",
        " - such as `sentiment analysis`, `topic modeling`, and `machine translation`.\n",
        "- It can also be used to get a better understanding of the structure of a sentence."
      ],
      "metadata": {
        "id": "Lcmeisr8s9Gb"
      }
    },
    {
      "cell_type": "code",
      "source": [
        "#step 3: Tokenize and Perform POS Tagging\n",
        "\n",
        "# Tokenize the transcript into sentences\n",
        "# means break transcript into individual sentences\n",
        "sentences = sent_tokenize(transcript)\n",
        "\n",
        "# Perform POS tagging for each sentence\n",
        "for sentence in sentences:\n",
        "    words = word_tokenize(sentence)\n",
        "    pos_tags = pos_tag(words)\n",
        "    print(pos_tags)"
      ],
      "metadata": {
        "colab": {
          "base_uri": "https://localhost:8080/"
        },
        "id": "ChSZkn6QrVma",
        "outputId": "4978f0ca-1012-4c29-d8d1-b672010ff508"
      },
      "execution_count": 9,
      "outputs": [
        {
          "output_type": "stream",
          "name": "stdout",
          "text": [
            "[('Participant', 'JJ'), ('1', 'CD'), (':', ':'), ('Good', 'JJ'), ('morning', 'NN'), (',', ','), ('everyone', 'NN'), ('!', '.')]\n",
            "[('Today', 'NN'), (',', ','), ('we', 'PRP'), ('will', 'MD'), ('discuss', 'VB'), ('the', 'DT'), ('project', 'NN'), ('status', 'NN'), ('.', '.')]\n",
            "[('Participant', 'JJ'), ('2', 'CD'), (':', ':'), ('Sounds', 'NNS'), ('good', 'JJ'), ('!', '.')]\n",
            "[('Let', 'VB'), (\"'s\", 'POS'), ('start', 'VB'), ('with', 'IN'), ('the', 'DT'), ('marketing', 'NN'), ('strategy', 'NN'), ('.', '.')]\n",
            "[('Participant', 'JJ'), ('3', 'CD'), (':', ':'), ('I', 'PRP'), ('agree', 'VBP'), ('.', '.')]\n",
            "[('We', 'PRP'), ('need', 'VBP'), ('to', 'TO'), ('focus', 'VB'), ('on', 'IN'), ('social', 'JJ'), ('media', 'NNS'), ('and', 'CC'), ('content', 'JJ'), ('marketing', 'NN'), ('.', '.')]\n",
            "[('Participant', 'JJ'), ('1', 'CD'), (':', ':'), ('Exactly', 'RB'), ('.', '.')]\n",
            "[('We', 'PRP'), ('can', 'MD'), ('assign', 'VB'), ('action', 'NN'), ('items', 'NNS'), ('for', 'IN'), ('each', 'DT'), ('team', 'NN'), ('member', 'NN'), ('.', '.')]\n",
            "[('Participant', 'JJ'), ('2', 'CD'), (':', ':'), ('Yes', 'UH'), (',', ','), ('let', 'VB'), (\"'s\", 'POS'), ('decide', 'VB'), ('on', 'IN'), ('the', 'DT'), ('deadlines', 'NNS'), ('for', 'IN'), ('the', 'DT'), ('action', 'NN'), ('items', 'NNS'), ('.', '.')]\n",
            "[('Participant', 'JJ'), ('3', 'CD'), (':', ':'), ('I', 'PRP'), ('will', 'MD'), ('follow', 'VB'), ('up', 'RP'), ('with', 'IN'), ('the', 'DT'), ('team', 'NN'), ('on', 'IN'), ('their', 'PRP$'), ('progress', 'NN'), ('.', '.')]\n"
          ]
        }
      ]
    },
    {
      "cell_type": "markdown",
      "source": [
        "- After run the code, you will see the POS tags for `each word in each sentence`.\n",
        "- The POS tags provide information about the grammatical parts of speech, such as nouns, verbs, adjectives, etc.\n",
        "- You can use these POS tags to gain insights into the content discussed during the meeting.\n",
        "\n",
        "- In this output, you can observe the POS tags like 'NNP' (`proper noun`), 'CD' (`cardinal number`), 'JJ' (`adjective`), 'VB' (`verb`), etc.\n",
        "- Now, we can analyze these tags to extract specific types of content from the transcript such as:\n",
        "  - decisions (verbs)\n",
        "  - action items (nouns)."
      ],
      "metadata": {
        "id": "KW1zIVSovgsE"
      }
    },
    {
      "cell_type": "markdown",
      "source": [
        "# BELOW is the example of real world coding that use POS Tagging"
      ],
      "metadata": {
        "id": "au2zS8MKy8SC"
      }
    },
    {
      "cell_type": "code",
      "source": [
        "import nltk\n",
        "from nltk import sent_tokenize, word_tokenize, pos_tag\n",
        "\n",
        "nltk.download('averaged_perceptron_tagger')\n",
        "\n",
        "def label_content_with_pos(transcript_file_path):\n",
        "    # (same code as before...)\n",
        "\n",
        "    labeled_content = []\n",
        "    for sentence in sentences:\n",
        "        words = word_tokenize(sentence)\n",
        "        pos_tags = pos_tag(words)\n",
        "\n",
        "        # Identify content type based on POS tags\n",
        "        label = None\n",
        "        for word, pos in pos_tags:\n",
        "            if pos.startswith('VB'):  # Verbs (VB, VBD, VBG, VBN, VBP, VBZ)\n",
        "                label = 'action_item'\n",
        "                break\n",
        "            elif 'decide' in word.lower():\n",
        "                label = 'decision'\n",
        "                break\n",
        "            elif 'discuss' in word.lower():\n",
        "                label = 'discussion'\n",
        "                break\n",
        "            elif 'conclude' in word.lower():\n",
        "                label = 'conclusion'\n",
        "                break\n",
        "\n",
        "        labeled_content.append((sentence, label))\n",
        "\n",
        "    return labeled_content"
      ],
      "metadata": {
        "colab": {
          "base_uri": "https://localhost:8080/"
        },
        "id": "mxv5JgRVyr73",
        "outputId": "143fc284-b985-4901-cea8-3c6c21d5b315"
      },
      "execution_count": 11,
      "outputs": [
        {
          "output_type": "stream",
          "name": "stderr",
          "text": [
            "[nltk_data] Downloading package averaged_perceptron_tagger to\n",
            "[nltk_data]     /root/nltk_data...\n",
            "[nltk_data]   Package averaged_perceptron_tagger is already up-to-\n",
            "[nltk_data]       date!\n"
          ]
        }
      ]
    },
    {
      "cell_type": "markdown",
      "source": [
        "# **2) Named Entity Recognition (NER)**\n",
        "\n",
        "NER is used\n",
        "- to `identify and classify named entities` in a sentence, such as `names of persons, organizations, locations, dates`, etc.\n",
        "- In the context of video transcripts, NER can help identify specific entities/peoples that may correspond to action items, decisions, or other content types.\n",
        "\n"
      ],
      "metadata": {
        "id": "1_w9gt9IyGmR"
      }
    },
    {
      "cell_type": "markdown",
      "source": [
        "Here's a `simple case study for Named Entity Recognition (NER)` using Python and the `spaCy` library.\n",
        "- In this case study, we will use spaCy to analyze a video meeting transcript and identify named entities such as names of persons, organizations, and locations."
      ],
      "metadata": {
        "id": "16fYtOkV00l6"
      }
    },
    {
      "cell_type": "markdown",
      "source": [
        "Here, we load the English language model (`en_core_web_sm`) provided by spaCy.\n",
        "  - This model contains pre-trained word vectors and linguistic annotations that `allow spaCy to process English text`.\n",
        "  \n"
      ],
      "metadata": {
        "id": "njT5eyMI16Bx"
      }
    },
    {
      "cell_type": "code",
      "source": [
        "import spacy\n",
        "\n",
        "# Load the English language model\n",
        "nlp = spacy.load('en_core_web_sm')\n",
        "\n",
        "def extract_named_entities(transcript):\n",
        "    doc = nlp(transcript)\n",
        "    named_entities = [(ent.text, ent.label_) for ent in doc.ents]\n",
        "    return named_entities\n",
        "\n",
        "# Sample video meeting transcript\n",
        "transcript = \"\"\"\n",
        "Today's video meeting involved participants from Google, Microsoft, and Apple.\n",
        "John Smith and Mary Johnson represented Google, while James Lee attended from Microsoft.\n",
        "They discussed the new product launch in San Francisco next month.\n",
        "\"\"\"\n",
        "\n",
        "# Extract named entities from the transcript\n",
        "named_entities = extract_named_entities(transcript)\n",
        "\n",
        "# Display the named entities\n",
        "print(\"Named Entities:\")\n",
        "for entity, label in named_entities:\n",
        "    print(f\"{entity} - {label}\")"
      ],
      "metadata": {
        "colab": {
          "base_uri": "https://localhost:8080/"
        },
        "id": "jPS7MnUUtI05",
        "outputId": "74ad9640-b66f-4bd6-8578-8f3b19999328"
      },
      "execution_count": 12,
      "outputs": [
        {
          "output_type": "stream",
          "name": "stdout",
          "text": [
            "Named Entities:\n",
            "Today - DATE\n",
            "Google - ORG\n",
            "Microsoft - ORG\n",
            "Apple - ORG\n",
            "John Smith - PERSON\n",
            "Mary Johnson - PERSON\n",
            "Google - ORG\n",
            "James Lee - PERSON\n",
            "Microsoft - ORG\n",
            "San Francisco - GPE\n",
            "next month - DATE\n"
          ]
        }
      ]
    },
    {
      "cell_type": "markdown",
      "source": [
        "In this example,\n",
        "- spaCy has successfully recognized and labeled named entities such as dates (DATE), organizations (ORG), persons (PERSON), and geographical locations (GPE) from the video meeting transcript.\n"
      ],
      "metadata": {
        "id": "cssGGO8r1dNx"
      }
    },
    {
      "cell_type": "markdown",
      "source": [
        "# **3) SENTIMENT ANALYSIS**\n",
        "\n",
        "- Sentiment analysis determines the sentiment expressed in a text, such as positive, negative, or neutral.\n",
        "- While not directly related to content labeling, sentiment analysis can provide additional insights into the overall tone of the video transcript.\n",
        "- For example, positive sentiments might indicate successful conclusions or decisions, while negative sentiments might reveal unresolved issues or concerns."
      ],
      "metadata": {
        "id": "5WVCVL3m3WGi"
      }
    },
    {
      "cell_type": "markdown",
      "source": [
        "In below case study, we'll use Python and the nltk library for sentiment analysis.\n",
        "- NLTK provides a pre-trained sentiment analysis model called VADER (Valence Aware Dictionary and sEntiment Reasoner), which is useful for analyzing social media text and short sentences.\n",
        "\n",
        "---\n"
      ],
      "metadata": {
        "id": "mFZcjuZB3-PK"
      }
    },
    {
      "cell_type": "markdown",
      "source": [
        "video_meeting_1.txt:\n",
        "- Meeting started. Team members introduced themselves. Positive vibes in the discussion.\n",
        "The team decided on the project timeline. Some concerns raised about resource allocation.\n",
        "Action items assigned to team members. Conclusion: The meeting was productive.\n",
        "\n",
        "---\n",
        "\n",
        "video_meeting_2.txt:\n",
        "- Participants joined the meeting. Technical issues with the audio at the beginning.\n",
        "The team discussed the project progress. Positive feedback received from the client.\n",
        "Decisions made regarding the budget. Meeting ended on a positive note.\n"
      ],
      "metadata": {
        "id": "KJAqSeJ44bSE"
      }
    },
    {
      "cell_type": "code",
      "source": [
        "import nltk\n",
        "from nltk.sentiment.vader import SentimentIntensityAnalyzer\n",
        "\n",
        "# Download the VADER lexicon (only need to do this once)\n",
        "nltk.download('vader_lexicon')"
      ],
      "metadata": {
        "id": "ayeKcU9U5Qli"
      },
      "execution_count": null,
      "outputs": []
    },
    {
      "cell_type": "code",
      "source": [
        "def load_transcript(file_path):\n",
        "    with open(file_path, 'r') as file:\n",
        "        return file.readlines()\n",
        "\n",
        "def analyze_sentiment(transcripts):\n",
        "    sid = SentimentIntensityAnalyzer()\n",
        "    overall_sentiment_scores = []\n",
        "\n",
        "    for transcript in transcripts:\n",
        "        sentiment_scores = [sid.polarity_scores(sentence)[\"compound\"] for sentence in transcript]\n",
        "        overall_sentiment_score = sum(sentiment_scores) / len(sentiment_scores)\n",
        "        overall_sentiment_scores.append(overall_sentiment_score)\n",
        "\n",
        "    return overall_sentiment_scores\n",
        "\n",
        "def main():\n",
        "    # Load transcripts\n",
        "    video_meeting_1 = load_transcript(\"video_meeting_1.txt\")\n",
        "    video_meeting_2 = load_transcript(\"video_meeting_2.txt\")\n",
        "\n",
        "    # Analyze sentiment\n",
        "    overall_sentiment_scores = analyze_sentiment([video_meeting_1, video_meeting_2])\n",
        "\n",
        "    # Display results\n",
        "    for i, score in enumerate(overall_sentiment_scores, 1):\n",
        "        print(f\"Video Meeting {i}: Overall Sentiment Score = {score:.2f}\")\n",
        "\n",
        "if __name__ == \"__main__\":\n",
        "    main()"
      ],
      "metadata": {
        "colab": {
          "base_uri": "https://localhost:8080/"
        },
        "id": "FFmDBShw1Fte",
        "outputId": "132e7b11-9329-45b5-8b9a-e237a4238bde"
      },
      "execution_count": 16,
      "outputs": [
        {
          "output_type": "stream",
          "name": "stdout",
          "text": [
            "Video Meeting 1: Overall Sentiment Score = 0.56\n",
            "Video Meeting 2: Overall Sentiment Score = 0.88\n"
          ]
        }
      ]
    },
    {
      "cell_type": "code",
      "source": [
        "#Data Visualization\n",
        "import matplotlib.pyplot as plt\n",
        "\n",
        "def visualize_sentiment(scores):\n",
        "    meetings = range(1, len(scores) + 1)\n",
        "    plt.bar(meetings, scores, color='skyblue')\n",
        "    plt.xlabel('Video Meetings')\n",
        "    plt.ylabel('Overall Sentiment Score')\n",
        "    plt.title('Sentiment Analysis of Video Meetings')\n",
        "    plt.xticks(meetings)\n",
        "    plt.ylim(-1, 1)\n",
        "    plt.axhline(0, color='gray', linestyle='dashed')\n",
        "    plt.show()\n",
        "\n",
        "if __name__ == \"__main__\":\n",
        "    # Sample sentiment scores (replace this with your actual sentiment scores)\n",
        "    overall_sentiment_scores = [0.56, 0.88]\n",
        "\n",
        "    # Visualize sentiment\n",
        "    visualize_sentiment(overall_sentiment_scores)"
      ],
      "metadata": {
        "colab": {
          "base_uri": "https://localhost:8080/",
          "height": 472
        },
        "id": "TAZO8Fsi4u26",
        "outputId": "284c59de-b88e-4e03-c87f-442b0f5df7e8"
      },
      "execution_count": 17,
      "outputs": [
        {
          "output_type": "display_data",
          "data": {
            "text/plain": [
              "<Figure size 640x480 with 1 Axes>"
            ],
            "image/png": "[encoded data removed]"
          },
          "metadata": {}
        }
      ]
    },
    {
      "cell_type": "markdown",
      "source": [
        "- The overall sentiment scores are between -1 and 1, where -1 represents a negative sentiment, 0 is neutral, and 1 is a positive sentiment.\n",
        "- In this case, both video meetings have positive overall sentiments, with `Meeting 2 being slightly more positive than Meeting 1`."
      ],
      "metadata": {
        "id": "bDLCWbZR6aAE"
      }
    },
    {
      "cell_type": "code",
      "source": [],
      "metadata": {
        "id": "kHZg0Cq-6UFS"
      },
      "execution_count": null,
      "outputs": []
    }
  ]
}